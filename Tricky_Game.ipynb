{
 "cells": [
  {
   "cell_type": "markdown",
   "metadata": {},
   "source": [
    "# TRICKY GAME\n",
    "## Create Game\n",
    "The empty board is created"
   ]
  },
  {
   "cell_type": "code",
   "execution_count": 16,
   "metadata": {},
   "outputs": [],
   "source": [
    "def create_game():\n",
    "    \n",
    "    nums=[\" \",\" \",\" \",\" \",\" \",\" \",\" \",\" \",\" \"]\n",
    "    \n",
    "    return nums\n"
   ]
  },
  {
   "cell_type": "markdown",
   "metadata": {},
   "source": [
    "## Choose Player\n",
    "First player chooses to start either with 'X' or 'O'"
   ]
  },
  {
   "cell_type": "code",
   "execution_count": 17,
   "metadata": {},
   "outputs": [],
   "source": [
    "def choose_player():\n",
    "    \n",
    "    player_choice = False\n",
    "    \n",
    "    while player_choice == False:\n",
    "        \n",
    "        player=input(\"Please choose the letter you would like to play with (X o O): \")\n",
    "        \n",
    "        if player not in [\"X\", \"O\"]:\n",
    "            print(\"I'm sorry, please enter X or O!\")\n",
    "        else: \n",
    "            print(\"Great, let's start playing!\")\n",
    "            player_choice=True\n",
    "        \n",
    "    return player\n"
   ]
  },
  {
   "cell_type": "markdown",
   "metadata": {},
   "source": [
    "## Display Board\n",
    "Current game board as well as a reference game board are displayed"
   ]
  },
  {
   "cell_type": "code",
   "execution_count": 18,
   "metadata": {},
   "outputs": [],
   "source": [
    "from IPython.display import clear_output\n",
    "\n",
    "def display_board(game):\n",
    "    \n",
    "    clear_output()\n",
    "    \n",
    "    print(\" \")\n",
    "    print(\"    Game                 Reference\")\n",
    "    print(\" \")\n",
    "    print(\"-------------          -------------\")\n",
    "    print(\"| \"+game[6]+\" | \"+game[7]+\" | \"+game[8]+\" |          | \"+str(7)+\" | \"+str(8)+\" | \"+str(9)+\" |\")  # Row3\n",
    "    print(\"-------------          -------------\")\n",
    "    print(\"| \"+game[3]+\" | \"+game[4]+\" | \"+game[5]+\" |    <-    | \"+str(4)+\" | \"+str(5)+\" | \"+str(6)+\" |\")  # Row2\n",
    "    print(\"-------------          -------------\")\n",
    "    print(\"| \"+game[0]+\" | \"+game[1]+\" | \"+game[2]+\" |          | \"+str(1)+\" | \"+str(2)+\" | \"+str(3)+\" |\")  # Row1\n",
    "    print(\"-------------          -------------\")\n",
    "    "
   ]
  },
  {
   "cell_type": "markdown",
   "metadata": {},
   "source": [
    "## Choose Position\n",
    "Player next move based on board reference game"
   ]
  },
  {
   "cell_type": "code",
   "execution_count": 19,
   "metadata": {},
   "outputs": [],
   "source": [
    "def choose_position():\n",
    "    \n",
    "    position_options = [\"1\",\"2\",\"3\",\"4\",\"5\",\"6\",\"7\",\"8\",\"9\"]\n",
    "\n",
    "    position_choice = False\n",
    "    \n",
    "    while position_choice == False:\n",
    "        \n",
    "        position=input(\"choose a position: \")\n",
    "        \n",
    "        if position not in position_options:\n",
    "            print(\"I'm sorry, please enter a valid position!\")\n",
    "        else: \n",
    "            position_choice=True\n",
    "        \n",
    "    return position\n"
   ]
  },
  {
   "cell_type": "markdown",
   "metadata": {},
   "source": [
    "## Check Winner\n",
    "Logic to establish if there is a winner based on current game state"
   ]
  },
  {
   "cell_type": "code",
   "execution_count": 20,
   "metadata": {},
   "outputs": [],
   "source": [
    "def check_winner(player,game):\n",
    "    \n",
    "    win1=[game[0],game[1],game[2]] # low hor row\n",
    "    win2=[game[3],game[4],game[5]] # cen hor row\n",
    "    win3=[game[6],game[7],game[8]] # upp hor row\n",
    "    win4=[game[0],game[3],game[6]] # lef ver col\n",
    "    win5=[game[1],game[4],game[7]] # cen ver col\n",
    "    win6=[game[2],game[5],game[8]] # rig ver col\n",
    "    win7=[game[0],game[4],game[8]] # diag 1\n",
    "    win8=[game[2],game[4],game[6]] # diag 2\n",
    "    \n",
    "    win_list=[win1,win2,win3,win4,win5,win6,win7,win8]\n",
    "    \n",
    "    for i in win_list:\n",
    "        win_result = (i.count(i[0])==len(i) and i[0] != \" \")\n",
    "        \n",
    "        if win_result==True:\n",
    "            break\n",
    "        else:\n",
    "            pass\n",
    "    \n",
    "    return win_result\n"
   ]
  },
  {
   "cell_type": "markdown",
   "metadata": {},
   "source": [
    "## Update Game\n",
    "If a winner is found, the game is over. If no winner has been found, the updated board is displayed for the next player"
   ]
  },
  {
   "cell_type": "code",
   "execution_count": 25,
   "metadata": {},
   "outputs": [],
   "source": [
    "def update_game(game,player,position):\n",
    "    \n",
    "    if game[int(position)-1]==\" \":\n",
    "        game[int(position)-1]=player\n",
    "        \n",
    "        if player == \"X\":\n",
    "            player=\"O\"\n",
    "        else: \n",
    "            player=\"X\"\n",
    "            \n",
    "    else:\n",
    "        print(\" \")\n",
    "        print(\"WARNING!! This position is already taken!!\")\n",
    "    \n",
    "    win_result=check_winner(player, game)\n",
    "    \n",
    "    display_board(game)\n",
    "    \n",
    "    if win_result == True:\n",
    "        if player == \"X\":\n",
    "            player=\"O\"\n",
    "        else: \n",
    "            player=\"X\"\n",
    "        \n",
    "        return print(f\"Congratulations! Player '{player}' has won!\")\n",
    "    \n",
    "    elif \" \" not in game:\n",
    "            return print(\"It's a draw!\")\n",
    "    else:\n",
    "        position=choose_position()\n",
    "        update_game(game,player,position)\n",
    "    "
   ]
  },
  {
   "cell_type": "markdown",
   "metadata": {},
   "source": [
    "## Game On\n",
    "Game logic to start playing!"
   ]
  },
  {
   "cell_type": "code",
   "execution_count": 26,
   "metadata": {},
   "outputs": [],
   "source": [
    "def game_on():\n",
    "    \n",
    "    player=choose_player()\n",
    "    game=create_game()\n",
    "    display_board(game)\n",
    "    position=choose_position()\n",
    "    update_game(game,player,position)\n",
    "    "
   ]
  },
  {
   "cell_type": "code",
   "execution_count": 27,
   "metadata": {},
   "outputs": [
    {
     "name": "stdout",
     "output_type": "stream",
     "text": [
      " \n",
      "    Game                 Reference\n",
      " \n",
      "-------------          -------------\n",
      "| X |   |   |          | 7 | 8 | 9 |\n",
      "-------------          -------------\n",
      "| O | X | O |    <-    | 4 | 5 | 6 |\n",
      "-------------          -------------\n",
      "| X | O | X |          | 1 | 2 | 3 |\n",
      "-------------          -------------\n",
      "Congratulations! Player 'X' has won!\n"
     ]
    }
   ],
   "source": [
    "game_on()"
   ]
  },
  {
   "cell_type": "code",
   "execution_count": null,
   "metadata": {},
   "outputs": [],
   "source": []
  }
 ],
 "metadata": {
  "kernelspec": {
   "display_name": "Python 3",
   "language": "python",
   "name": "python3"
  },
  "language_info": {
   "codemirror_mode": {
    "name": "ipython",
    "version": 3
   },
   "file_extension": ".py",
   "mimetype": "text/x-python",
   "name": "python",
   "nbconvert_exporter": "python",
   "pygments_lexer": "ipython3",
   "version": "3.8.5"
  }
 },
 "nbformat": 4,
 "nbformat_minor": 4
}
